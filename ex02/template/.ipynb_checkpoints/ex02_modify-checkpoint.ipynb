{
 "cells": [
  {
   "cell_type": "code",
   "execution_count": 20,
   "metadata": {},
   "outputs": [
    {
     "name": "stdout",
     "output_type": "stream",
     "text": [
      "The autoreload extension is already loaded. To reload it, use:\n",
      "  %reload_ext autoreload\n"
     ]
    }
   ],
   "source": [
    "# Useful starting lines\n",
    "%matplotlib inline\n",
    "import numpy as np\n",
    "import matplotlib.pyplot as plt\n",
    "%load_ext autoreload\n",
    "%autoreload 2"
   ]
  },
  {
   "cell_type": "markdown",
   "metadata": {},
   "source": [
    "# Load the data"
   ]
  },
  {
   "cell_type": "code",
   "execution_count": 21,
   "metadata": {},
   "outputs": [],
   "source": [
    "import datetime\n",
    "from helpers import *\n",
    "\n",
    "height, weight, gender = load_data(sub_sample=True, add_outlier=True)\n",
    "x, mean_x, std_x = standardize(height)\n",
    "y, tx = build_model_data(x, weight)"
   ]
  },
  {
   "cell_type": "code",
   "execution_count": 22,
   "metadata": {
    "scrolled": true
   },
   "outputs": [
    {
     "data": {
      "text/plain": [
       "((202,), (202, 2))"
      ]
     },
     "execution_count": 22,
     "metadata": {},
     "output_type": "execute_result"
    }
   ],
   "source": [
    "y.shape, tx.shape"
   ]
  },
  {
   "cell_type": "code",
   "execution_count": 23,
   "metadata": {
    "scrolled": true
   },
   "outputs": [
    {
     "data": {
      "text/plain": [
       "array([109.81967768,  75.18767829,  91.17170674,  81.09273097,\n",
       "        89.01193424,  78.15735857,  89.4701687 ,  75.14363177,\n",
       "        92.09993504,  80.41209897,  94.78696144,  72.79658636,\n",
       "        83.6467126 , 101.33572901,  85.26667609,  90.60407223,\n",
       "        93.04174311,  84.79016933, 108.3105307 ,  78.71762092,\n",
       "        71.40879193,  93.75088386,  90.08228887,  90.79165562,\n",
       "        71.28563111,  90.2366435 ,  85.41789452,  94.07309505,\n",
       "        85.15726012,  88.03583219,  77.56442917,  82.01947566,\n",
       "        76.90432986,  70.4438144 ,  92.80952003, 113.47561257,\n",
       "        89.90269781,  90.54889225,  87.3730611 ,  70.04343359,\n",
       "        85.89657352,  77.00360899,  79.39905508,  93.24511229,\n",
       "        90.06827241,  85.714425  ,  71.03312734,  60.6144405 ,\n",
       "        84.92377468,  94.53236342,  55.69677074,  88.25809004,\n",
       "        70.90632831,  92.63041056,  97.93193794,  85.53141276,\n",
       "        92.39509024,  84.42765377,  69.86214527,  90.93952077,\n",
       "        86.21899073,  75.47898726,  87.06078885,  85.45328716,\n",
       "        84.32116622,  80.86341682,  74.26125313,  78.05020106,\n",
       "        93.41726092, 104.86810781,  84.99920066,  92.78266656,\n",
       "        69.97244619,  96.30245372,  72.05122617,  89.97495391,\n",
       "        95.46162138,  86.63452181,  91.37457809,  96.99880931,\n",
       "        80.85097339,  78.56888292,  83.06485822,  76.92160695,\n",
       "        87.99862226,  73.10088018, 100.22372996,  73.41075284,\n",
       "       108.82253199,  95.11840843,  92.08877013,  90.42932411,\n",
       "        93.75815351,  96.46825937,  81.06484297,  89.15683961,\n",
       "        76.9748518 ,  81.29793409,  99.41679549,  77.01734856,\n",
       "        46.34810017,  65.86338652,  66.84721606,  59.46138322,\n",
       "        59.4840926 ,  83.83500916,  48.39075347,  55.08248635,\n",
       "        51.4867629 ,  54.72749943,  65.16772396,  51.04609909,\n",
       "        77.46015523,  64.88410632,  65.5466894 ,  59.07413751,\n",
       "        72.88064384,  70.27279081,  52.11529607,  64.75839744,\n",
       "        63.55543006,  57.02297614,  61.23139136,  65.62818996,\n",
       "        63.30403333,  53.78490196,  55.87431385,  57.53702476,\n",
       "        48.70559036,  52.93903352,  82.45590079,  61.17676972,\n",
       "        61.64422418,  48.45635046,  59.31406267,  63.40267143,\n",
       "        60.85676238,  60.09438743,  54.84776227,  62.06333791,\n",
       "        64.82643347,  57.79679297,  73.81986276,  54.89129618,\n",
       "        52.39921389,  57.42363839,  47.2155353 ,  54.67128564,\n",
       "        81.74445505,  58.05770619,  58.65748371,  67.91572868,\n",
       "        75.95981077,  61.165144  ,  75.13756943,  53.49949732,\n",
       "        57.40045512,  57.04383193,  72.9883488 ,  82.35092193,\n",
       "        53.80490787,  55.62134915,  57.49140583,  63.59343305,\n",
       "        72.40499891,  66.0309968 ,  76.06425473,  71.59178255,\n",
       "        61.28895141,  58.04009808,  56.9802145 ,  50.19673582,\n",
       "        66.06624269,  50.00911545,  62.09621563,  55.78505001,\n",
       "        54.42553893,  76.72230552,  64.70353327,  59.41426214,\n",
       "        48.93779339,  51.93205806,  55.198237  ,  70.21585449,\n",
       "        58.52369309,  59.23404868,  67.92137614,  50.80215289,\n",
       "        74.53417928,  64.72472933,  57.19623132,  59.21823486,\n",
       "        71.22636203,  58.31703071,  68.80718111,  62.48925496,\n",
       "        58.27596356,  60.73663712,  66.72246342,  56.01737847,\n",
       "       113.43612335, 121.8061674 ])"
      ]
     },
     "execution_count": 23,
     "metadata": {},
     "output_type": "execute_result"
    }
   ],
   "source": [
    "y"
   ]
  },
  {
   "cell_type": "code",
   "execution_count": 24,
   "metadata": {},
   "outputs": [
    {
     "data": {
      "text/plain": [
       "array([[ 1.        ,  1.60732851],\n",
       "       [ 1.        , -0.34425702],\n",
       "       [ 1.        ,  0.79029417],\n",
       "       [ 1.        ,  0.23636113],\n",
       "       [ 1.        ,  1.03574313],\n",
       "       [ 1.        ,  0.28919556],\n",
       "       [ 1.        ,  0.74882936],\n",
       "       [ 1.        , -0.04632715],\n",
       "       [ 1.        ,  0.77279579],\n",
       "       [ 1.        ,  0.70803751],\n",
       "       [ 1.        ,  1.22317436],\n",
       "       [ 1.        , -0.57065396],\n",
       "       [ 1.        ,  0.84616852],\n",
       "       [ 1.        ,  1.44668334],\n",
       "       [ 1.        ,  0.72740835],\n",
       "       [ 1.        ,  0.89069732],\n",
       "       [ 1.        ,  1.25596045],\n",
       "       [ 1.        ,  1.00133428],\n",
       "       [ 1.        ,  1.68686386],\n",
       "       [ 1.        ,  0.03767522],\n",
       "       [ 1.        ,  0.00918269],\n",
       "       [ 1.        ,  0.87570357],\n",
       "       [ 1.        ,  0.88055278],\n",
       "       [ 1.        ,  1.20170024],\n",
       "       [ 1.        , -0.36490269],\n",
       "       [ 1.        ,  0.93150985],\n",
       "       [ 1.        ,  0.37926243],\n",
       "       [ 1.        ,  1.54839342],\n",
       "       [ 1.        ,  0.64311392],\n",
       "       [ 1.        ,  0.34901818],\n",
       "       [ 1.        ,  0.3273167 ],\n",
       "       [ 1.        ,  0.21841965],\n",
       "       [ 1.        ,  0.12646788],\n",
       "       [ 1.        ,  0.28394409],\n",
       "       [ 1.        ,  1.13595675],\n",
       "       [ 1.        ,  1.77045186],\n",
       "       [ 1.        ,  0.92306748],\n",
       "       [ 1.        ,  1.29310729],\n",
       "       [ 1.        ,  0.39732424],\n",
       "       [ 1.        , -0.88448736],\n",
       "       [ 1.        ,  0.61073869],\n",
       "       [ 1.        ,  0.0218681 ],\n",
       "       [ 1.        ,  0.05326759],\n",
       "       [ 1.        ,  1.04566371],\n",
       "       [ 1.        ,  1.25675733],\n",
       "       [ 1.        ,  0.88447628],\n",
       "       [ 1.        , -0.56568035],\n",
       "       [ 1.        , -0.31036715],\n",
       "       [ 1.        ,  0.75671568],\n",
       "       [ 1.        ,  1.51130758],\n",
       "       [ 1.        , -1.14261533],\n",
       "       [ 1.        ,  1.06569379],\n",
       "       [ 1.        ,  0.25478874],\n",
       "       [ 1.        ,  1.19048226],\n",
       "       [ 1.        ,  1.44634048],\n",
       "       [ 1.        ,  1.3527318 ],\n",
       "       [ 1.        ,  1.50914462],\n",
       "       [ 1.        ,  0.90166477],\n",
       "       [ 1.        , -0.48051851],\n",
       "       [ 1.        ,  0.49709578],\n",
       "       [ 1.        ,  0.30166342],\n",
       "       [ 1.        ,  0.60505893],\n",
       "       [ 1.        ,  0.66654589],\n",
       "       [ 1.        ,  0.28049228],\n",
       "       [ 1.        ,  0.75436545],\n",
       "       [ 1.        ,  0.35656923],\n",
       "       [ 1.        , -0.03423691],\n",
       "       [ 1.        ,  0.41213895],\n",
       "       [ 1.        ,  1.02594761],\n",
       "       [ 1.        ,  1.95052779],\n",
       "       [ 1.        ,  1.36876442],\n",
       "       [ 1.        ,  1.669044  ],\n",
       "       [ 1.        , -0.61475941],\n",
       "       [ 1.        ,  1.25606852],\n",
       "       [ 1.        , -0.18144921],\n",
       "       [ 1.        ,  0.90324918],\n",
       "       [ 1.        ,  1.70676977],\n",
       "       [ 1.        ,  0.87702059],\n",
       "       [ 1.        ,  0.918471  ],\n",
       "       [ 1.        ,  1.72288041],\n",
       "       [ 1.        ,  0.49101803],\n",
       "       [ 1.        ,  0.20475799],\n",
       "       [ 1.        ,  0.16260047],\n",
       "       [ 1.        ,  0.35754445],\n",
       "       [ 1.        ,  1.04896535],\n",
       "       [ 1.        , -0.49991133],\n",
       "       [ 1.        ,  1.94678771],\n",
       "       [ 1.        , -0.54589426],\n",
       "       [ 1.        ,  2.20008905],\n",
       "       [ 1.        ,  0.94734902],\n",
       "       [ 1.        ,  0.62846349],\n",
       "       [ 1.        ,  0.87808712],\n",
       "       [ 1.        ,  0.4920975 ],\n",
       "       [ 1.        ,  1.56089216],\n",
       "       [ 1.        ,  0.28074298],\n",
       "       [ 1.        ,  1.08765279],\n",
       "       [ 1.        ,  0.47889722],\n",
       "       [ 1.        ,  0.38591207],\n",
       "       [ 1.        ,  1.59758603],\n",
       "       [ 1.        ,  0.50718211],\n",
       "       [ 1.        , -1.60847488],\n",
       "       [ 1.        , -0.28678505],\n",
       "       [ 1.        , -0.50445107],\n",
       "       [ 1.        , -0.49311013],\n",
       "       [ 1.        , -0.99512107],\n",
       "       [ 1.        ,  0.86361729],\n",
       "       [ 1.        , -1.93422413],\n",
       "       [ 1.        , -1.12033247],\n",
       "       [ 1.        , -1.34786641],\n",
       "       [ 1.        , -0.78166043],\n",
       "       [ 1.        , -0.17214936],\n",
       "       [ 1.        , -1.20003939],\n",
       "       [ 1.        ,  0.23686609],\n",
       "       [ 1.        , -0.03613966],\n",
       "       [ 1.        , -0.5365512 ],\n",
       "       [ 1.        , -1.467046  ],\n",
       "       [ 1.        , -0.02654208],\n",
       "       [ 1.        ,  0.37244603],\n",
       "       [ 1.        , -1.16951196],\n",
       "       [ 1.        , -0.8347322 ],\n",
       "       [ 1.        , -0.25980549],\n",
       "       [ 1.        , -1.48216313],\n",
       "       [ 1.        , -0.86252296],\n",
       "       [ 1.        , -0.98099234],\n",
       "       [ 1.        , -0.50048133],\n",
       "       [ 1.        , -1.39542497],\n",
       "       [ 1.        , -0.76502812],\n",
       "       [ 1.        , -0.7214539 ],\n",
       "       [ 1.        , -1.19434122],\n",
       "       [ 1.        , -0.88969487],\n",
       "       [ 1.        ,  0.64094148],\n",
       "       [ 1.        , -0.60826592],\n",
       "       [ 1.        , -0.34860975],\n",
       "       [ 1.        , -0.97228454],\n",
       "       [ 1.        , -1.21978039],\n",
       "       [ 1.        , -0.52895442],\n",
       "       [ 1.        , -0.62812629],\n",
       "       [ 1.        , -0.49583427],\n",
       "       [ 1.        , -0.61684654],\n",
       "       [ 1.        , -0.50960788],\n",
       "       [ 1.        , -0.79158153],\n",
       "       [ 1.        , -0.62885036],\n",
       "       [ 1.        ,  0.07451478],\n",
       "       [ 1.        , -0.79731958],\n",
       "       [ 1.        , -1.28804609],\n",
       "       [ 1.        , -0.6995479 ],\n",
       "       [ 1.        , -1.55685003],\n",
       "       [ 1.        , -0.89259443],\n",
       "       [ 1.        ,  0.93883243],\n",
       "       [ 1.        , -1.10117581],\n",
       "       [ 1.        , -0.39989856],\n",
       "       [ 1.        , -0.29261931],\n",
       "       [ 1.        ,  0.78342072],\n",
       "       [ 1.        , -0.5649097 ],\n",
       "       [ 1.        ,  0.15757148],\n",
       "       [ 1.        , -1.04873475],\n",
       "       [ 1.        , -0.38782883],\n",
       "       [ 1.        , -0.81422875],\n",
       "       [ 1.        , -0.04955837],\n",
       "       [ 1.        ,  0.54077112],\n",
       "       [ 1.        , -1.00500703],\n",
       "       [ 1.        , -0.87542596],\n",
       "       [ 1.        , -0.40739214],\n",
       "       [ 1.        , -0.21493811],\n",
       "       [ 1.        ,  0.06046651],\n",
       "       [ 1.        , -0.26308683],\n",
       "       [ 1.        ,  0.86486164],\n",
       "       [ 1.        , -0.143253  ],\n",
       "       [ 1.        , -0.40363974],\n",
       "       [ 1.        , -0.58725026],\n",
       "       [ 1.        , -0.93840138],\n",
       "       [ 1.        , -1.26975975],\n",
       "       [ 1.        , -0.5227439 ],\n",
       "       [ 1.        , -1.73060413],\n",
       "       [ 1.        , -0.61572955],\n",
       "       [ 1.        , -0.78853062],\n",
       "       [ 1.        , -0.682926  ],\n",
       "       [ 1.        ,  0.37826444],\n",
       "       [ 1.        , -1.05618971],\n",
       "       [ 1.        , -0.01965028],\n",
       "       [ 1.        , -1.69143171],\n",
       "       [ 1.        , -1.1544482 ],\n",
       "       [ 1.        , -0.72643017],\n",
       "       [ 1.        , -0.1573916 ],\n",
       "       [ 1.        , -0.55040591],\n",
       "       [ 1.        , -0.7757378 ],\n",
       "       [ 1.        , -0.75312663],\n",
       "       [ 1.        , -1.20202644],\n",
       "       [ 1.        ,  0.18903361],\n",
       "       [ 1.        , -0.81858583],\n",
       "       [ 1.        , -0.17127402],\n",
       "       [ 1.        , -0.60462775],\n",
       "       [ 1.        , -0.26209397],\n",
       "       [ 1.        , -0.88721653],\n",
       "       [ 1.        , -0.74947561],\n",
       "       [ 1.        ,  0.08044231],\n",
       "       [ 1.        , -0.75279577],\n",
       "       [ 1.        , -0.96906714],\n",
       "       [ 1.        , -0.11544901],\n",
       "       [ 1.        , -1.13481335],\n",
       "       [ 1.        , -4.81877668],\n",
       "       [ 1.        , -3.957571  ]])"
      ]
     },
     "execution_count": 24,
     "metadata": {},
     "output_type": "execute_result"
    }
   ],
   "source": [
    "tx"
   ]
  },
  {
   "cell_type": "markdown",
   "metadata": {},
   "source": [
    "# 1 Computing the Cost Function"
   ]
  },
  {
   "cell_type": "markdown",
   "metadata": {},
   "source": [
    "Fill in the `compute_loss` function below:\n",
    "<a id='compute_loss'></a>\n"
   ]
  },
  {
   "cell_type": "code",
   "execution_count": 25,
   "metadata": {},
   "outputs": [],
   "source": [
    "def compute_loss(y, tx, w):\n",
    "    \"\"\"Calculate the loss.\n",
    "\n",
    "    You can calculate the loss using mse or mae.\n",
    "    \"\"\"\n",
    "    # ***************************************************\n",
    "    # INSERT YOUR CODE HERE\n",
    "    losses = np.dot(np.transpose(y-np.dot(tx,w)),y-np.dot(tx,w))*(1/(2*y.shape[0]))\n",
    "    return losses\n",
    "    # TODO: compute loss by MSE\n",
    "    # ***************************************************"
   ]
  },
  {
   "cell_type": "code",
   "execution_count": 26,
   "metadata": {},
   "outputs": [
    {
     "data": {
      "text/plain": [
       "2776.1975189489485"
      ]
     },
     "execution_count": 26,
     "metadata": {},
     "output_type": "execute_result"
    }
   ],
   "source": [
    "compute_loss(y,tx,w=[1,2])"
   ]
  },
  {
   "cell_type": "code",
   "execution_count": null,
   "metadata": {},
   "outputs": [],
   "source": []
  },
  {
   "cell_type": "markdown",
   "metadata": {},
   "source": [
    "# 2 Grid Search\n",
    "\n",
    "Fill in the function `grid_search()` below:"
   ]
  },
  {
   "cell_type": "code",
   "execution_count": 27,
   "metadata": {},
   "outputs": [],
   "source": [
    "def grid_search(y, tx, w0, w1):\n",
    "    \"\"\"Algorithm for grid search.\"\"\"\n",
    "    losses = np.zeros((len(w0), len(w1)))\n",
    "    # ***************************************************\n",
    "    # INSERT YOUR CODE HERE\n",
    "    for i in range(len(w0)):\n",
    "        for j in range (len(w1)):\n",
    "            losses[i,j] =compute_loss(y,tx,[w0[i],w1[j]])\n",
    "        \n",
    "    # TODO: compute loss for each combination of w0 and w1.\n",
    "    # ***************************************************\n",
    "    return losses"
   ]
  },
  {
   "cell_type": "markdown",
   "metadata": {},
   "source": [
    "Let us play with the grid search demo now!"
   ]
  },
  {
   "cell_type": "code",
   "execution_count": 28,
   "metadata": {},
   "outputs": [
    {
     "name": "stdout",
     "output_type": "stream",
     "text": [
      "Grid Search: loss*=66.2133043000073, w0*=73.36683417085428, w1*=11.306532663316602, execution time=0.316 seconds\n"
     ]
    },
    {
     "data": {
      "image/png": "[encoded data removed]",
      "text/plain": [
       "<Figure size 720x432 with 3 Axes>"
      ]
     },
     "metadata": {
      "needs_background": "light"
     },
     "output_type": "display_data"
    }
   ],
   "source": [
    "from grid_search import generate_w, get_best_parameters\n",
    "from plots import grid_visualization\n",
    "\n",
    "# Generate the grid of parameters to be swept\n",
    "grid_w0, grid_w1 = generate_w(num_intervals=200)\n",
    "\n",
    "# Start the grid search\n",
    "start_time = datetime.datetime.now()\n",
    "grid_losses = grid_search(y, tx, grid_w0, grid_w1)\n",
    "\n",
    "# Select the best combinaison\n",
    "loss_star, w0_star, w1_star = get_best_parameters(grid_w0, grid_w1, grid_losses)\n",
    "end_time = datetime.datetime.now()\n",
    "execution_time = (end_time - start_time).total_seconds()\n",
    "\n",
    "# Print the results\n",
    "print(\"Grid Search: loss*={l}, w0*={w0}, w1*={w1}, execution time={t:.3f} seconds\".format(\n",
    "      l=loss_star, w0=w0_star, w1=w1_star, t=execution_time))\n",
    "\n",
    "# Plot the results\n",
    "fig = grid_visualization(grid_losses, grid_w0, grid_w1, mean_x, std_x, height, weight)\n",
    "fig.set_size_inches(10.0,6.0)\n",
    "fig.savefig(\"grid_plot\")  # Optional saving"
   ]
  },
  {
   "cell_type": "markdown",
   "metadata": {},
   "source": [
    "# 3 Gradient Descent"
   ]
  },
  {
   "cell_type": "markdown",
   "metadata": {},
   "source": [
    "Again, please fill in the functions `compute_gradient` below:"
   ]
  },
  {
   "cell_type": "code",
   "execution_count": 29,
   "metadata": {},
   "outputs": [],
   "source": [
    "def compute_gradient(y, tx, w):\n",
    "    \"\"\"Compute the gradient.\"\"\"\n",
    "    # ***************************************************\n",
    "    # INSERT YOUR CODE HERE\n",
    "    gradient = -1/(1.0*(y.shape[0]))*np.dot(np.transpose(tx),y-np.dot(tx,w))\n",
    "    return gradient\n",
    "    # TODO: compute gradient and error vector\n",
    "    # ***************************************************\n",
    "   "
   ]
  },
  {
   "cell_type": "code",
   "execution_count": 30,
   "metadata": {},
   "outputs": [
    {
     "data": {
      "text/plain": [
       "array([25.93219415, -9.03489487])"
      ]
     },
     "execution_count": 30,
     "metadata": {},
     "output_type": "execute_result"
    }
   ],
   "source": [
    "compute_gradient(y,tx,[100,2])"
   ]
  },
  {
   "cell_type": "code",
   "execution_count": 31,
   "metadata": {},
   "outputs": [
    {
     "data": {
      "text/plain": [
       "array([-24.06780585,  -1.03489487])"
      ]
     },
     "execution_count": 31,
     "metadata": {},
     "output_type": "execute_result"
    }
   ],
   "source": [
    "compute_gradient(y,tx,[50,10])"
   ]
  },
  {
   "cell_type": "markdown",
   "metadata": {},
   "source": [
    "Please fill in the functions `gradient_descent` below:"
   ]
  },
  {
   "cell_type": "code",
   "execution_count": 32,
   "metadata": {},
   "outputs": [],
   "source": [
    "def gradient_descent(y, tx, initial_w, max_iters, gamma):\n",
    "    \"\"\"Gradient descent algorithm.\"\"\"\n",
    "    # Define parameters to store w and loss\n",
    "    ws = [initial_w]\n",
    "    losses = []\n",
    "    w = initial_w\n",
    "    for n_iter in range(max_iters):\n",
    "        # ***************************************************\n",
    "        # INSERT YOUR CODE HERE\n",
    "        loss = compute_loss(y,tx,w)\n",
    "        gradient = compute_gradient(y,tx,w)\n",
    "        # TODO: compute gradient and loss\n",
    "        # ***************************************************\n",
    "\n",
    "        # ***************************************************\n",
    "        # INSERT YOUR CODE HERE\n",
    "        w = w - gamma*gradient\n",
    "        # TODO: update w by gradient\n",
    "        # ***************************************************\n",
    "\n",
    "        # store w and loss\n",
    "        ws.append(w)\n",
    "        losses.append(loss)\n",
    "        print(\"Gradient Descent({bi}/{ti}): loss={l}, w0={w0}, w1={w1}\".format(\n",
    "              bi=n_iter, ti=max_iters - 1, l=loss, w0=w[0], w1=w[1]))\n",
    "\n",
    "    return losses, ws"
   ]
  },
  {
   "cell_type": "markdown",
   "metadata": {},
   "source": [
    "Test your gradient descent function through gradient descent demo shown below:"
   ]
  },
  {
   "cell_type": "code",
   "execution_count": 33,
   "metadata": {},
   "outputs": [
    {
     "name": "stdout",
     "output_type": "stream",
     "text": [
      "Gradient Descent(0/49): loss=402.7055803833242, w0=97.40678058549264, w1=10.103489486598907\n",
      "Gradient Descent(1/49): loss=338.7183588299874, w0=95.07288311243602, w1=10.196630024537924\n",
      "Gradient Descent(2/49): loss=286.8887093717845, w0=92.97237538668506, w1=10.28045650868304\n",
      "Gradient Descent(3/49): loss=244.90669331064026, w0=91.08191843350919, w1=10.355900344413644\n",
      "Gradient Descent(4/49): loss=210.90126030111324, w0=89.3805071756509, w1=10.423799796571188\n",
      "Gradient Descent(5/49): loss=183.3568595633963, w0=87.84923704357846, w1=10.484909303512978\n",
      "Gradient Descent(6/49): loss=161.04589496584572, w0=86.47109392471324, w1=10.53990785976059\n",
      "Gradient Descent(7/49): loss=142.97401364182966, w0=85.23076511773456, w1=10.58940656038344\n",
      "Gradient Descent(8/49): loss=128.33578976937673, w0=84.11446919145375, w1=10.633955390944005\n",
      "Gradient Descent(9/49): loss=116.47882843268988, w0=83.10980285780101, w1=10.674049338448514\n",
      "Gradient Descent(10/49): loss=106.87468974997344, w0=82.20560315751355, w1=10.710133891202572\n",
      "Gradient Descent(11/49): loss=99.09533741697317, w0=81.39182342725483, w1=10.742609988681224\n",
      "Gradient Descent(12/49): loss=92.7940620272429, w0=80.65942167002198, w1=10.771838476412011\n",
      "Gradient Descent(13/49): loss=87.69002896156138, w0=80.00026008851242, w1=10.79814411536972\n",
      "Gradient Descent(14/49): loss=83.55576217835934, w0=79.40701466515381, w1=10.821819190431658\n",
      "Gradient Descent(15/49): loss=80.20700608396568, w0=78.87309378413106, w1=10.8431267579874\n",
      "Gradient Descent(16/49): loss=77.49451364750682, w0=78.39256499121059, w1=10.86230356878757\n",
      "Gradient Descent(17/49): loss=75.29739477397516, w0=77.96008907758217, w1=10.879562698507723\n",
      "Gradient Descent(18/49): loss=73.51772848641453, w0=77.57086075531659, w1=10.89509591525586\n",
      "Gradient Descent(19/49): loss=72.0761987934904, w0=77.22055526527757, w1=10.909075810329183\n",
      "Gradient Descent(20/49): loss=70.90855974222188, w0=76.90528032424245, w1=10.921657715895174\n",
      "Gradient Descent(21/49): loss=69.96277211069437, w0=76.62153287731084, w1=10.932981430904567\n",
      "Gradient Descent(22/49): loss=69.19668412915708, w0=76.3661601750724, w1=10.94317277441302\n",
      "Gradient Descent(23/49): loss=68.57615286411188, w0=76.1363247430578, w1=10.952344983570628\n",
      "Gradient Descent(24/49): loss=68.07352253942528, w0=75.92947285424465, w1=10.960599971812474\n",
      "Gradient Descent(25/49): loss=67.6663919764291, w0=75.74330615431282, w1=10.968029461230136\n",
      "Gradient Descent(26/49): loss=67.33661622040223, w0=75.57575612437418, w1=10.974716001706032\n",
      "Gradient Descent(27/49): loss=67.06949785802044, w0=75.4249610974294, w1=10.980733888134338\n",
      "Gradient Descent(28/49): loss=66.85313198449121, w0=75.2892455731791, w1=10.986149985919814\n",
      "Gradient Descent(29/49): loss=66.67787562693253, w0=75.16710160135383, w1=10.991024473926743\n",
      "Gradient Descent(30/49): loss=66.53591797730999, w0=75.05717202671109, w1=10.995411513132979\n",
      "Gradient Descent(31/49): loss=66.42093228111574, w0=74.95823540953262, w1=10.99935984841859\n",
      "Gradient Descent(32/49): loss=66.3277938671984, w0=74.86919245407199, w1=11.00291335017564\n",
      "Gradient Descent(33/49): loss=66.25235175192535, w0=74.78905379415743, w1=11.006111501756987\n",
      "Gradient Descent(34/49): loss=66.19124363855417, w0=74.71692900023432, w1=11.008989838180199\n",
      "Gradient Descent(35/49): loss=66.1417460667235, w0=74.65201668570352, w1=11.011580340961089\n",
      "Gradient Descent(36/49): loss=66.10165303354067, w0=74.5935956026258, w1=11.01391179346389\n",
      "Gradient Descent(37/49): loss=66.06917767666259, w0=74.54101662785585, w1=11.01601010071641\n",
      "Gradient Descent(38/49): loss=66.04287263759133, w0=74.4936955505629, w1=11.01789857724368\n",
      "Gradient Descent(39/49): loss=66.02156555594362, w0=74.45110658099925, w1=11.019598206118221\n",
      "Gradient Descent(40/49): loss=66.00430681980899, w0=74.41277650839196, w1=11.021127872105309\n",
      "Gradient Descent(41/49): loss=65.99032724353991, w0=74.3782794430454, w1=11.022504571493688\n",
      "Gradient Descent(42/49): loss=65.97900378676196, w0=74.3472320842335, w1=11.023743600943229\n",
      "Gradient Descent(43/49): loss=65.96983178677185, w0=74.31928946130279, w1=11.024858727447816\n",
      "Gradient Descent(44/49): loss=65.96240246677984, w0=74.29414110066514, w1=11.025862341301945\n",
      "Gradient Descent(45/49): loss=65.9563847175863, w0=74.27150757609127, w1=11.02676559377066\n",
      "Gradient Descent(46/49): loss=65.95151034073955, w0=74.25113740397478, w1=11.027578520992504\n",
      "Gradient Descent(47/49): loss=65.94756209549368, w0=74.23280424906994, w1=11.028310155492164\n",
      "Gradient Descent(48/49): loss=65.94436401684452, w0=74.21630440965559, w1=11.028968626541857\n",
      "Gradient Descent(49/49): loss=65.94177357313869, w0=74.20145455418267, w1=11.029561250486582\n",
      "Gradient Descent: execution time=0.005 seconds\n"
     ]
    }
   ],
   "source": [
    "# from gradient_descent import *\n",
    "from plots import gradient_descent_visualization\n",
    "\n",
    "# Define the parameters of the algorithm.\n",
    "max_iters = 50\n",
    "gamma = 0.1\n",
    "\n",
    "# Initialization\n",
    "w_initial = np.array([100, 10])\n",
    "\n",
    "# Start gradient descent.\n",
    "start_time = datetime.datetime.now()\n",
    "gradient_losses, gradient_ws = gradient_descent(y, tx, w_initial, max_iters, gamma)\n",
    "end_time = datetime.datetime.now()\n",
    "\n",
    "# Print result\n",
    "exection_time = (end_time - start_time).total_seconds()\n",
    "print(\"Gradient Descent: execution time={t:.3f} seconds\".format(t=exection_time))"
   ]
  },
  {
   "cell_type": "code",
   "execution_count": 34,
   "metadata": {},
   "outputs": [
    {
     "data": {
      "application/vnd.jupyter.widget-view+json": {
       "model_id": "49d6c870782a47429ae4386a2b31cbb2",
       "version_major": 2,
       "version_minor": 0
      },
      "text/plain": [
       "interactive(children=(IntSlider(value=1, description='n_iter', max=51, min=1), Output()), _dom_classes=('widge…"
      ]
     },
     "metadata": {},
     "output_type": "display_data"
    },
    {
     "data": {
      "text/plain": [
       "<function __main__.plot_figure(n_iter)>"
      ]
     },
     "execution_count": 34,
     "metadata": {},
     "output_type": "execute_result"
    }
   ],
   "source": [
    "# Time Visualization\n",
    "from ipywidgets import IntSlider, interact\n",
    "\n",
    "def plot_figure(n_iter):\n",
    "    fig = gradient_descent_visualization(\n",
    "        gradient_losses, gradient_ws, grid_losses, grid_w0, grid_w1, mean_x, std_x, height, weight, n_iter)\n",
    "    fig.set_size_inches(10.0, 6.0)\n",
    "\n",
    "interact(plot_figure, n_iter=IntSlider(min=1, max=len(gradient_ws)))"
   ]
  },
  {
   "cell_type": "markdown",
   "metadata": {},
   "source": [
    "# 4 Stochastic gradient descent"
   ]
  },
  {
   "cell_type": "code",
   "execution_count": 35,
   "metadata": {},
   "outputs": [],
   "source": [
    "def compute_stoch_gradient(y, tx, w):\n",
    "    \"\"\"Compute a stochastic gradient from just few examples n and their corresponding y_n labels.\"\"\"\n",
    "    # ***************************************************\n",
    "    # INSERT YOUR CODE HERE\n",
    "    gradient = -1.0/(len(tx))*np.dot(np.transpose(tx),y-np.dot(tx,w))\n",
    "    return gradient\n",
    "    # TODO: implement stochastic gradient computation.It's same as the gradient descent.\n",
    "    # ***************************************************\n",
    "\n",
    "\n",
    "\n",
    "def stochastic_gradient_descent(\n",
    "        y, tx, initial_w, batch_size, max_iters, gamma):\n",
    "    \"\"\"Stochastic gradient descent algorithm.\"\"\"\n",
    "    # ***************************************************\n",
    "    # INSERT YOUR CODE HERE\n",
    "    ws = [initial_w]\n",
    "    losses = []\n",
    "    w = initial_w\n",
    "    \n",
    "    for n_iter in range(max_iters):\n",
    "        for minibatch_y,minibatch_tx in batch_iter(y,tx,batch_size,num_batches =1 , shuffle = True):\n",
    "            loss = compute_loss(y,tx,w)\n",
    "            gradient = compute_stoch_gradient(minibatch_y,minibatch_tx,w)\n",
    "        \n",
    "            w = w - gamma*gradient\n",
    "            #store w and loss\n",
    "            ws.append(w)\n",
    "            losses.append(loss)\n",
    "            print(\"Gradient Descent({bi}/{ti}): loss={l}, w0={w0}, w1={w1}\".format(\n",
    "              bi=n_iter, ti=max_iters - 1, l=loss, w0=w[0], w1=w[1]))\n",
    "    # TODO: implement stochastic gradient descent.\n",
    "    # ***************************************************\n",
    "\n",
    "    return losses, ws"
   ]
  },
  {
   "cell_type": "code",
   "execution_count": 36,
   "metadata": {},
   "outputs": [
    {
     "name": "stdout",
     "output_type": "stream",
     "text": [
      "Gradient Descent(0/49): loss=2869.8351145358524, w0=53.207795061274574, w1=20.152034001246484\n",
      "Gradient Descent(1/49): loss=325.0618682640586, w0=71.50434740168247, w1=-2.93906261670136\n",
      "Gradient Descent(2/49): loss=166.85213358737764, w0=75.945411617225, w1=4.40001118344882\n",
      "Gradient Descent(3/49): loss=89.70427254233155, w0=73.23295680113488, w1=10.241539889550399\n",
      "Gradient Descent(4/49): loss=66.59392263323168, w0=70.56073017363981, w1=13.701561661123883\n",
      "Gradient Descent(5/49): loss=75.63607591787634, w0=72.91645801079014, w1=15.573978033665263\n",
      "Gradient Descent(6/49): loss=76.89516903324247, w0=72.36409502063327, w1=15.971322135905206\n",
      "Gradient Descent(7/49): loss=79.56620250163287, w0=73.62529790447307, w1=16.237585332011577\n",
      "Gradient Descent(8/49): loss=79.56263078833115, w0=72.67537070888335, w1=17.742599200073972\n",
      "Gradient Descent(9/49): loss=89.39681663732178, w0=73.47557894980726, w1=16.860610225674733\n",
      "Gradient Descent(10/49): loss=83.0755761822154, w0=73.90058645997003, w1=14.980408499827398\n",
      "Gradient Descent(11/49): loss=73.7282501830301, w0=76.53652052483517, w1=1.1105835689573311\n",
      "Gradient Descent(12/49): loss=118.22398352351102, w0=74.81322939799846, w1=10.896287155563316\n",
      "Gradient Descent(13/49): loss=66.21816428058118, w0=73.22708123402876, w1=14.101374185436459\n",
      "Gradient Descent(14/49): loss=70.98578675499427, w0=73.35825603556799, w1=15.79601998023975\n",
      "Gradient Descent(15/49): loss=77.51661675245326, w0=72.64335938460772, w1=16.36907033765072\n",
      "Gradient Descent(16/49): loss=81.17196795724321, w0=73.42026580190615, w1=15.402664862407057\n",
      "Gradient Descent(17/49): loss=75.67909153354054, w0=75.75308952987201, w1=0.2582602726077443\n",
      "Gradient Descent(18/49): loss=125.4187472147544, w0=74.79115263316015, w1=4.1049420559183885\n",
      "Gradient Descent(19/49): loss=90.20446835829745, w0=72.68493293913473, w1=8.500674724931175\n",
      "Gradient Descent(20/49): loss=70.09803471489025, w0=73.14091411921252, w1=11.690607043211617\n",
      "Gradient Descent(21/49): loss=66.57527347714962, w0=72.27910417323825, w1=13.583194439413939\n",
      "Gradient Descent(22/49): loss=70.7773723135989, w0=72.71963778852445, w1=14.621666937170918\n",
      "Gradient Descent(23/49): loss=73.27197561554127, w0=77.51417448489553, w1=1.5200455658598582\n",
      "Gradient Descent(24/49): loss=117.13563707150611, w0=72.42204116077878, w1=8.329829149166192\n",
      "Gradient Descent(25/49): loss=70.94369108302004, w0=72.75634971985824, w1=13.771839936221918\n",
      "Gradient Descent(26/49): loss=70.53612285844315, w0=72.23015829477399, w1=16.19938016317403\n",
      "Gradient Descent(27/49): loss=80.95515857269001, w0=71.98945508623437, w1=16.817506874604028\n",
      "Gradient Descent(28/49): loss=84.80980188255343, w0=73.26903776587145, w1=15.603886850686026\n",
      "Gradient Descent(29/49): loss=76.68758921076198, w0=74.23366040709426, w1=16.32735574693804\n",
      "Gradient Descent(30/49): loss=79.94955505702819, w0=72.85064551465092, w1=16.438476741183923\n",
      "Gradient Descent(31/49): loss=81.27081829054008, w0=72.3127833022877, w1=16.262960802156343\n",
      "Gradient Descent(32/49): loss=81.13711889919466, w0=77.14856339878948, w1=-4.235811599110768\n",
      "Gradient Descent(33/49): loss=187.27350159625954, w0=68.76961487549403, w1=8.054248213955798\n",
      "Gradient Descent(34/49): loss=84.40827116201115, w0=68.47045732886217, w1=11.591192208571268\n",
      "Gradient Descent(35/49): loss=81.75061873040188, w0=72.10755102506808, w1=14.785061834684235\n",
      "Gradient Descent(36/49): loss=74.88390574814078, w0=72.39547397319348, w1=15.589612651666574\n",
      "Gradient Descent(37/49): loss=77.70180411751686, w0=73.08544262605524, w1=16.019297601501453\n",
      "Gradient Descent(38/49): loss=78.83538417421393, w0=72.90588904276666, w1=16.260136182878597\n",
      "Gradient Descent(39/49): loss=80.25732885165759, w0=71.53951637782971, w1=13.71623625972343\n",
      "Gradient Descent(40/49): loss=72.72164977747877, w0=73.43978591427262, w1=15.548708806648644\n",
      "Gradient Descent(41/49): loss=76.31519277097897, w0=75.44801066600154, w1=16.746573924003037\n",
      "Gradient Descent(42/49): loss=83.19485159373839, w0=73.42936665383058, w1=16.007755379781365\n",
      "Gradient Descent(43/49): loss=78.49920325416842, w0=73.35992877578566, w1=15.69221099009238\n",
      "Gradient Descent(44/49): loss=77.02657182210595, w0=73.63813355388679, w1=15.962718295694435\n",
      "Gradient Descent(45/49): loss=78.16476112292011, w0=72.29928359431459, w1=15.722801033814116\n",
      "Gradient Descent(46/49): loss=78.48279771490897, w0=76.03661619325727, w1=0.8553187012107752\n",
      "Gradient Descent(47/49): loss=119.68072262402421, w0=71.75087780840562, w1=9.817052676657271\n",
      "Gradient Descent(48/49): loss=69.35637768803888, w0=70.45536883894098, w1=11.908335913411149\n",
      "Gradient Descent(49/49): loss=72.83703033149492, w0=73.7562043824837, w1=15.405089515153904\n",
      "SGD: execution time=0.011 seconds\n"
     ]
    }
   ],
   "source": [
    "# from stochastic_gradient_descent import *\n",
    "\n",
    "# Define the parameters of the algorithm.\n",
    "max_iters = 50\n",
    "gamma = 0.7\n",
    "batch_size = 20\n",
    "\n",
    "# Initialization\n",
    "w_initial = np.array([0, 0])\n",
    "\n",
    "# Start SGD.\n",
    "start_time = datetime.datetime.now()\n",
    "sgd_losses, sgd_ws = stochastic_gradient_descent(\n",
    "    y, tx, w_initial, batch_size, max_iters, gamma)\n",
    "end_time = datetime.datetime.now()\n",
    "\n",
    "# Print result\n",
    "exection_time = (end_time - start_time).total_seconds()\n",
    "print(\"SGD: execution time={t:.3f} seconds\".format(t=exection_time))"
   ]
  },
  {
   "cell_type": "code",
   "execution_count": null,
   "metadata": {},
   "outputs": [],
   "source": []
  },
  {
   "cell_type": "code",
   "execution_count": 37,
   "metadata": {},
   "outputs": [
    {
     "data": {
      "application/vnd.jupyter.widget-view+json": {
       "model_id": "fd106b1fccce40e0954c451b02fe73ab",
       "version_major": 2,
       "version_minor": 0
      },
      "text/plain": [
       "interactive(children=(IntSlider(value=1, description='n_iter', max=51, min=1), Output()), _dom_classes=('widge…"
      ]
     },
     "metadata": {},
     "output_type": "display_data"
    },
    {
     "data": {
      "text/plain": [
       "<function __main__.plot_figure(n_iter)>"
      ]
     },
     "execution_count": 37,
     "metadata": {},
     "output_type": "execute_result"
    }
   ],
   "source": [
    "# Time Visualization\n",
    "from ipywidgets import IntSlider, interact\n",
    "def plot_figure(n_iter):\n",
    "    fig = gradient_descent_visualization(\n",
    "        sgd_losses, sgd_ws, grid_losses, grid_w0, grid_w1, mean_x, std_x, height, weight, n_iter)\n",
    "    fig.set_size_inches(10.0, 6.0)\n",
    "\n",
    "interact(plot_figure, n_iter=IntSlider(min=1, max=len(gradient_ws)))"
   ]
  },
  {
   "cell_type": "markdown",
   "metadata": {},
   "source": [
    "# 5 Effect of Outliers and MAE Cost Function, and Subgradient Descent"
   ]
  },
  {
   "cell_type": "markdown",
   "metadata": {},
   "source": [
    "### Exercise 5\n",
    "\n",
    "Load and plot data containing outliers"
   ]
  },
  {
   "cell_type": "code",
   "execution_count": null,
   "metadata": {
    "collapsed": true
   },
   "outputs": [],
   "source": []
  },
  {
   "cell_type": "markdown",
   "metadata": {},
   "source": [
    "### Exercise 6"
   ]
  },
  {
   "cell_type": "markdown",
   "metadata": {},
   "source": [
    "Modify the function `compute_loss(y, tx, w)` for the Mean Absolute Error cost function [here](#compute_loss)"
   ]
  }
 ],
 "metadata": {
  "anaconda-cloud": {},
  "kernelspec": {
   "display_name": "Python 3",
   "language": "python",
   "name": "python3"
  },
  "language_info": {
   "codemirror_mode": {
    "name": "ipython",
    "version": 3
   },
   "file_extension": ".py",
   "mimetype": "text/x-python",
   "name": "python",
   "nbconvert_exporter": "python",
   "pygments_lexer": "ipython3",
   "version": "3.7.3"
  }
 },
 "nbformat": 4,
 "nbformat_minor": 1
}
