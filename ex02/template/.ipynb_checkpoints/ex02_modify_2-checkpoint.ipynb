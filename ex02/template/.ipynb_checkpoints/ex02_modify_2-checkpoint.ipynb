{
 "cells": [
  {
   "cell_type": "code",
   "execution_count": 43,
   "metadata": {},
   "outputs": [
    {
     "name": "stdout",
     "output_type": "stream",
     "text": [
      "The autoreload extension is already loaded. To reload it, use:\n",
      "  %reload_ext autoreload\n"
     ]
    }
   ],
   "source": [
    "# Useful starting lines\n",
    "%matplotlib inline\n",
    "import numpy as np\n",
    "import matplotlib.pyplot as plt\n",
    "%load_ext autoreload\n",
    "%autoreload 2"
   ]
  },
  {
   "cell_type": "markdown",
   "metadata": {},
   "source": [
    "# Load the data"
   ]
  },
  {
   "cell_type": "code",
   "execution_count": 44,
   "metadata": {},
   "outputs": [],
   "source": [
    "import datetime\n",
    "from helpers import *\n",
    "\n",
    "height, weight, gender = load_data(sub_sample=True, add_outlier=True)\n",
    "x, mean_x, std_x = standardize(height)\n",
    "y, tx = build_model_data(x, weight)"
   ]
  },
  {
   "cell_type": "code",
   "execution_count": 45,
   "metadata": {
    "scrolled": true
   },
   "outputs": [
    {
     "data": {
      "text/plain": [
       "((202,), (202, 2))"
      ]
     },
     "execution_count": 45,
     "metadata": {},
     "output_type": "execute_result"
    }
   ],
   "source": [
    "y.shape, tx.shape"
   ]
  },
  {
   "cell_type": "code",
   "execution_count": 46,
   "metadata": {
    "scrolled": true
   },
   "outputs": [
    {
     "data": {
      "text/plain": [
       "array([109.81967768,  75.18767829,  91.17170674,  81.09273097,\n",
       "        89.01193424,  78.15735857,  89.4701687 ,  75.14363177,\n",
       "        92.09993504,  80.41209897,  94.78696144,  72.79658636,\n",
       "        83.6467126 , 101.33572901,  85.26667609,  90.60407223,\n",
       "        93.04174311,  84.79016933, 108.3105307 ,  78.71762092,\n",
       "        71.40879193,  93.75088386,  90.08228887,  90.79165562,\n",
       "        71.28563111,  90.2366435 ,  85.41789452,  94.07309505,\n",
       "        85.15726012,  88.03583219,  77.56442917,  82.01947566,\n",
       "        76.90432986,  70.4438144 ,  92.80952003, 113.47561257,\n",
       "        89.90269781,  90.54889225,  87.3730611 ,  70.04343359,\n",
       "        85.89657352,  77.00360899,  79.39905508,  93.24511229,\n",
       "        90.06827241,  85.714425  ,  71.03312734,  60.6144405 ,\n",
       "        84.92377468,  94.53236342,  55.69677074,  88.25809004,\n",
       "        70.90632831,  92.63041056,  97.93193794,  85.53141276,\n",
       "        92.39509024,  84.42765377,  69.86214527,  90.93952077,\n",
       "        86.21899073,  75.47898726,  87.06078885,  85.45328716,\n",
       "        84.32116622,  80.86341682,  74.26125313,  78.05020106,\n",
       "        93.41726092, 104.86810781,  84.99920066,  92.78266656,\n",
       "        69.97244619,  96.30245372,  72.05122617,  89.97495391,\n",
       "        95.46162138,  86.63452181,  91.37457809,  96.99880931,\n",
       "        80.85097339,  78.56888292,  83.06485822,  76.92160695,\n",
       "        87.99862226,  73.10088018, 100.22372996,  73.41075284,\n",
       "       108.82253199,  95.11840843,  92.08877013,  90.42932411,\n",
       "        93.75815351,  96.46825937,  81.06484297,  89.15683961,\n",
       "        76.9748518 ,  81.29793409,  99.41679549,  77.01734856,\n",
       "        46.34810017,  65.86338652,  66.84721606,  59.46138322,\n",
       "        59.4840926 ,  83.83500916,  48.39075347,  55.08248635,\n",
       "        51.4867629 ,  54.72749943,  65.16772396,  51.04609909,\n",
       "        77.46015523,  64.88410632,  65.5466894 ,  59.07413751,\n",
       "        72.88064384,  70.27279081,  52.11529607,  64.75839744,\n",
       "        63.55543006,  57.02297614,  61.23139136,  65.62818996,\n",
       "        63.30403333,  53.78490196,  55.87431385,  57.53702476,\n",
       "        48.70559036,  52.93903352,  82.45590079,  61.17676972,\n",
       "        61.64422418,  48.45635046,  59.31406267,  63.40267143,\n",
       "        60.85676238,  60.09438743,  54.84776227,  62.06333791,\n",
       "        64.82643347,  57.79679297,  73.81986276,  54.89129618,\n",
       "        52.39921389,  57.42363839,  47.2155353 ,  54.67128564,\n",
       "        81.74445505,  58.05770619,  58.65748371,  67.91572868,\n",
       "        75.95981077,  61.165144  ,  75.13756943,  53.49949732,\n",
       "        57.40045512,  57.04383193,  72.9883488 ,  82.35092193,\n",
       "        53.80490787,  55.62134915,  57.49140583,  63.59343305,\n",
       "        72.40499891,  66.0309968 ,  76.06425473,  71.59178255,\n",
       "        61.28895141,  58.04009808,  56.9802145 ,  50.19673582,\n",
       "        66.06624269,  50.00911545,  62.09621563,  55.78505001,\n",
       "        54.42553893,  76.72230552,  64.70353327,  59.41426214,\n",
       "        48.93779339,  51.93205806,  55.198237  ,  70.21585449,\n",
       "        58.52369309,  59.23404868,  67.92137614,  50.80215289,\n",
       "        74.53417928,  64.72472933,  57.19623132,  59.21823486,\n",
       "        71.22636203,  58.31703071,  68.80718111,  62.48925496,\n",
       "        58.27596356,  60.73663712,  66.72246342,  56.01737847,\n",
       "       113.43612335, 121.8061674 ])"
      ]
     },
     "execution_count": 46,
     "metadata": {},
     "output_type": "execute_result"
    }
   ],
   "source": [
    "y"
   ]
  },
  {
   "cell_type": "code",
   "execution_count": 47,
   "metadata": {},
   "outputs": [
    {
     "data": {
      "text/plain": [
       "array([[ 1.        ,  1.60732851],\n",
       "       [ 1.        , -0.34425702],\n",
       "       [ 1.        ,  0.79029417],\n",
       "       [ 1.        ,  0.23636113],\n",
       "       [ 1.        ,  1.03574313],\n",
       "       [ 1.        ,  0.28919556],\n",
       "       [ 1.        ,  0.74882936],\n",
       "       [ 1.        , -0.04632715],\n",
       "       [ 1.        ,  0.77279579],\n",
       "       [ 1.        ,  0.70803751],\n",
       "       [ 1.        ,  1.22317436],\n",
       "       [ 1.        , -0.57065396],\n",
       "       [ 1.        ,  0.84616852],\n",
       "       [ 1.        ,  1.44668334],\n",
       "       [ 1.        ,  0.72740835],\n",
       "       [ 1.        ,  0.89069732],\n",
       "       [ 1.        ,  1.25596045],\n",
       "       [ 1.        ,  1.00133428],\n",
       "       [ 1.        ,  1.68686386],\n",
       "       [ 1.        ,  0.03767522],\n",
       "       [ 1.        ,  0.00918269],\n",
       "       [ 1.        ,  0.87570357],\n",
       "       [ 1.        ,  0.88055278],\n",
       "       [ 1.        ,  1.20170024],\n",
       "       [ 1.        , -0.36490269],\n",
       "       [ 1.        ,  0.93150985],\n",
       "       [ 1.        ,  0.37926243],\n",
       "       [ 1.        ,  1.54839342],\n",
       "       [ 1.        ,  0.64311392],\n",
       "       [ 1.        ,  0.34901818],\n",
       "       [ 1.        ,  0.3273167 ],\n",
       "       [ 1.        ,  0.21841965],\n",
       "       [ 1.        ,  0.12646788],\n",
       "       [ 1.        ,  0.28394409],\n",
       "       [ 1.        ,  1.13595675],\n",
       "       [ 1.        ,  1.77045186],\n",
       "       [ 1.        ,  0.92306748],\n",
       "       [ 1.        ,  1.29310729],\n",
       "       [ 1.        ,  0.39732424],\n",
       "       [ 1.        , -0.88448736],\n",
       "       [ 1.        ,  0.61073869],\n",
       "       [ 1.        ,  0.0218681 ],\n",
       "       [ 1.        ,  0.05326759],\n",
       "       [ 1.        ,  1.04566371],\n",
       "       [ 1.        ,  1.25675733],\n",
       "       [ 1.        ,  0.88447628],\n",
       "       [ 1.        , -0.56568035],\n",
       "       [ 1.        , -0.31036715],\n",
       "       [ 1.        ,  0.75671568],\n",
       "       [ 1.        ,  1.51130758],\n",
       "       [ 1.        , -1.14261533],\n",
       "       [ 1.        ,  1.06569379],\n",
       "       [ 1.        ,  0.25478874],\n",
       "       [ 1.        ,  1.19048226],\n",
       "       [ 1.        ,  1.44634048],\n",
       "       [ 1.        ,  1.3527318 ],\n",
       "       [ 1.        ,  1.50914462],\n",
       "       [ 1.        ,  0.90166477],\n",
       "       [ 1.        , -0.48051851],\n",
       "       [ 1.        ,  0.49709578],\n",
       "       [ 1.        ,  0.30166342],\n",
       "       [ 1.        ,  0.60505893],\n",
       "       [ 1.        ,  0.66654589],\n",
       "       [ 1.        ,  0.28049228],\n",
       "       [ 1.        ,  0.75436545],\n",
       "       [ 1.        ,  0.35656923],\n",
       "       [ 1.        , -0.03423691],\n",
       "       [ 1.        ,  0.41213895],\n",
       "       [ 1.        ,  1.02594761],\n",
       "       [ 1.        ,  1.95052779],\n",
       "       [ 1.        ,  1.36876442],\n",
       "       [ 1.        ,  1.669044  ],\n",
       "       [ 1.        , -0.61475941],\n",
       "       [ 1.        ,  1.25606852],\n",
       "       [ 1.        , -0.18144921],\n",
       "       [ 1.        ,  0.90324918],\n",
       "       [ 1.        ,  1.70676977],\n",
       "       [ 1.        ,  0.87702059],\n",
       "       [ 1.        ,  0.918471  ],\n",
       "       [ 1.        ,  1.72288041],\n",
       "       [ 1.        ,  0.49101803],\n",
       "       [ 1.        ,  0.20475799],\n",
       "       [ 1.        ,  0.16260047],\n",
       "       [ 1.        ,  0.35754445],\n",
       "       [ 1.        ,  1.04896535],\n",
       "       [ 1.        , -0.49991133],\n",
       "       [ 1.        ,  1.94678771],\n",
       "       [ 1.        , -0.54589426],\n",
       "       [ 1.        ,  2.20008905],\n",
       "       [ 1.        ,  0.94734902],\n",
       "       [ 1.        ,  0.62846349],\n",
       "       [ 1.        ,  0.87808712],\n",
       "       [ 1.        ,  0.4920975 ],\n",
       "       [ 1.        ,  1.56089216],\n",
       "       [ 1.        ,  0.28074298],\n",
       "       [ 1.        ,  1.08765279],\n",
       "       [ 1.        ,  0.47889722],\n",
       "       [ 1.        ,  0.38591207],\n",
       "       [ 1.        ,  1.59758603],\n",
       "       [ 1.        ,  0.50718211],\n",
       "       [ 1.        , -1.60847488],\n",
       "       [ 1.        , -0.28678505],\n",
       "       [ 1.        , -0.50445107],\n",
       "       [ 1.        , -0.49311013],\n",
       "       [ 1.        , -0.99512107],\n",
       "       [ 1.        ,  0.86361729],\n",
       "       [ 1.        , -1.93422413],\n",
       "       [ 1.        , -1.12033247],\n",
       "       [ 1.        , -1.34786641],\n",
       "       [ 1.        , -0.78166043],\n",
       "       [ 1.        , -0.17214936],\n",
       "       [ 1.        , -1.20003939],\n",
       "       [ 1.        ,  0.23686609],\n",
       "       [ 1.        , -0.03613966],\n",
       "       [ 1.        , -0.5365512 ],\n",
       "       [ 1.        , -1.467046  ],\n",
       "       [ 1.        , -0.02654208],\n",
       "       [ 1.        ,  0.37244603],\n",
       "       [ 1.        , -1.16951196],\n",
       "       [ 1.        , -0.8347322 ],\n",
       "       [ 1.        , -0.25980549],\n",
       "       [ 1.        , -1.48216313],\n",
       "       [ 1.        , -0.86252296],\n",
       "       [ 1.        , -0.98099234],\n",
       "       [ 1.        , -0.50048133],\n",
       "       [ 1.        , -1.39542497],\n",
       "       [ 1.        , -0.76502812],\n",
       "       [ 1.        , -0.7214539 ],\n",
       "       [ 1.        , -1.19434122],\n",
       "       [ 1.        , -0.88969487],\n",
       "       [ 1.        ,  0.64094148],\n",
       "       [ 1.        , -0.60826592],\n",
       "       [ 1.        , -0.34860975],\n",
       "       [ 1.        , -0.97228454],\n",
       "       [ 1.        , -1.21978039],\n",
       "       [ 1.        , -0.52895442],\n",
       "       [ 1.        , -0.62812629],\n",
       "       [ 1.        , -0.49583427],\n",
       "       [ 1.        , -0.61684654],\n",
       "       [ 1.        , -0.50960788],\n",
       "       [ 1.        , -0.79158153],\n",
       "       [ 1.        , -0.62885036],\n",
       "       [ 1.        ,  0.07451478],\n",
       "       [ 1.        , -0.79731958],\n",
       "       [ 1.        , -1.28804609],\n",
       "       [ 1.        , -0.6995479 ],\n",
       "       [ 1.        , -1.55685003],\n",
       "       [ 1.        , -0.89259443],\n",
       "       [ 1.        ,  0.93883243],\n",
       "       [ 1.        , -1.10117581],\n",
       "       [ 1.        , -0.39989856],\n",
       "       [ 1.        , -0.29261931],\n",
       "       [ 1.        ,  0.78342072],\n",
       "       [ 1.        , -0.5649097 ],\n",
       "       [ 1.        ,  0.15757148],\n",
       "       [ 1.        , -1.04873475],\n",
       "       [ 1.        , -0.38782883],\n",
       "       [ 1.        , -0.81422875],\n",
       "       [ 1.        , -0.04955837],\n",
       "       [ 1.        ,  0.54077112],\n",
       "       [ 1.        , -1.00500703],\n",
       "       [ 1.        , -0.87542596],\n",
       "       [ 1.        , -0.40739214],\n",
       "       [ 1.        , -0.21493811],\n",
       "       [ 1.        ,  0.06046651],\n",
       "       [ 1.        , -0.26308683],\n",
       "       [ 1.        ,  0.86486164],\n",
       "       [ 1.        , -0.143253  ],\n",
       "       [ 1.        , -0.40363974],\n",
       "       [ 1.        , -0.58725026],\n",
       "       [ 1.        , -0.93840138],\n",
       "       [ 1.        , -1.26975975],\n",
       "       [ 1.        , -0.5227439 ],\n",
       "       [ 1.        , -1.73060413],\n",
       "       [ 1.        , -0.61572955],\n",
       "       [ 1.        , -0.78853062],\n",
       "       [ 1.        , -0.682926  ],\n",
       "       [ 1.        ,  0.37826444],\n",
       "       [ 1.        , -1.05618971],\n",
       "       [ 1.        , -0.01965028],\n",
       "       [ 1.        , -1.69143171],\n",
       "       [ 1.        , -1.1544482 ],\n",
       "       [ 1.        , -0.72643017],\n",
       "       [ 1.        , -0.1573916 ],\n",
       "       [ 1.        , -0.55040591],\n",
       "       [ 1.        , -0.7757378 ],\n",
       "       [ 1.        , -0.75312663],\n",
       "       [ 1.        , -1.20202644],\n",
       "       [ 1.        ,  0.18903361],\n",
       "       [ 1.        , -0.81858583],\n",
       "       [ 1.        , -0.17127402],\n",
       "       [ 1.        , -0.60462775],\n",
       "       [ 1.        , -0.26209397],\n",
       "       [ 1.        , -0.88721653],\n",
       "       [ 1.        , -0.74947561],\n",
       "       [ 1.        ,  0.08044231],\n",
       "       [ 1.        , -0.75279577],\n",
       "       [ 1.        , -0.96906714],\n",
       "       [ 1.        , -0.11544901],\n",
       "       [ 1.        , -1.13481335],\n",
       "       [ 1.        , -4.81877668],\n",
       "       [ 1.        , -3.957571  ]])"
      ]
     },
     "execution_count": 47,
     "metadata": {},
     "output_type": "execute_result"
    }
   ],
   "source": [
    "tx"
   ]
  },
  {
   "cell_type": "markdown",
   "metadata": {},
   "source": [
    "# 1 Computing the Cost Function"
   ]
  },
  {
   "cell_type": "markdown",
   "metadata": {},
   "source": [
    "Fill in the `compute_loss` function below:\n",
    "<a id='compute_loss'></a>\n"
   ]
  },
  {
   "cell_type": "code",
   "execution_count": 48,
   "metadata": {},
   "outputs": [],
   "source": [
    "def compute_loss(y, tx, w):\n",
    "    \"\"\"Calculate the loss.\n",
    "\n",
    "    You can calculate the loss using mse or mae.\n",
    "    \"\"\"\n",
    "    # ***************************************************\n",
    "    # INSERT YOUR CODE HERE\n",
    "    N = len(y)\n",
    "    losses = 1/N*np.sum(np.absolute(y-np.dot(tx,w)))\n",
    "    return losses\n",
    "    # TODO: compute loss by MAE\n",
    "    # ***************************************************"
   ]
  },
  {
   "cell_type": "code",
   "execution_count": 49,
   "metadata": {},
   "outputs": [
    {
     "data": {
      "text/plain": [
       "73.06780585492639"
      ]
     },
     "execution_count": 49,
     "metadata": {},
     "output_type": "execute_result"
    }
   ],
   "source": [
    "compute_loss(y,tx,w=[1,2])"
   ]
  },
  {
   "cell_type": "code",
   "execution_count": null,
   "metadata": {},
   "outputs": [],
   "source": []
  },
  {
   "cell_type": "markdown",
   "metadata": {},
   "source": [
    "# 2 Grid Search\n",
    "\n",
    "Fill in the function `grid_search()` below:"
   ]
  },
  {
   "cell_type": "code",
   "execution_count": 50,
   "metadata": {},
   "outputs": [],
   "source": [
    "def grid_search(y, tx, w0, w1):\n",
    "    \"\"\"Algorithm for grid search.\"\"\"\n",
    "    losses = np.zeros((len(w0), len(w1)))\n",
    "    # ***************************************************\n",
    "    # INSERT YOUR CODE HERE\n",
    "    for i in range(len(w0)):\n",
    "        for j in range (len(w1)):\n",
    "            losses[i,j] =compute_loss(y,tx,[w0[i],w1[j]])\n",
    "        \n",
    "    # TODO: compute loss for each combination of w0 and w1.\n",
    "    # ***************************************************\n",
    "    return losses"
   ]
  },
  {
   "cell_type": "markdown",
   "metadata": {},
   "source": [
    "Let us play with the grid search demo now!"
   ]
  },
  {
   "cell_type": "code",
   "execution_count": 51,
   "metadata": {
    "scrolled": true
   },
   "outputs": [
    {
     "name": "stdout",
     "output_type": "stream",
     "text": [
      "Grid Search: loss*=5.350259618178881, w0*=73.36683417085428, w1*=15.829145728643226, execution time=0.317 seconds\n"
     ]
    },
    {
     "data": {
      "image/png": "[encoded data removed]",
      "text/plain": [
       "<Figure size 720x432 with 3 Axes>"
      ]
     },
     "metadata": {
      "needs_background": "light"
     },
     "output_type": "display_data"
    }
   ],
   "source": [
    "from grid_search import generate_w, get_best_parameters\n",
    "from plots import grid_visualization\n",
    "\n",
    "# Generate the grid of parameters to be swept\n",
    "grid_w0, grid_w1 = generate_w(num_intervals=200)\n",
    "\n",
    "# Start the grid search\n",
    "start_time = datetime.datetime.now()\n",
    "grid_losses = grid_search(y, tx, grid_w0, grid_w1)\n",
    "\n",
    "# Select the best combinaison\n",
    "loss_star, w0_star, w1_star = get_best_parameters(grid_w0, grid_w1, grid_losses)\n",
    "end_time = datetime.datetime.now()\n",
    "execution_time = (end_time - start_time).total_seconds()\n",
    "\n",
    "# Print the results\n",
    "print(\"Grid Search: loss*={l}, w0*={w0}, w1*={w1}, execution time={t:.3f} seconds\".format(\n",
    "      l=loss_star, w0=w0_star, w1=w1_star, t=execution_time))\n",
    "\n",
    "# Plot the results\n",
    "fig = grid_visualization(grid_losses, grid_w0, grid_w1, mean_x, std_x, height, weight)\n",
    "fig.set_size_inches(10.0,6.0)\n",
    "fig.savefig(\"grid_plot\")  # Optional saving"
   ]
  },
  {
   "cell_type": "markdown",
   "metadata": {},
   "source": [
    "# 3 SUBGradient Descent"
   ]
  },
  {
   "cell_type": "markdown",
   "metadata": {},
   "source": [
    "Again, please fill in the functions `compute_gradient` below:"
   ]
  },
  {
   "cell_type": "code",
   "execution_count": 52,
   "metadata": {},
   "outputs": [],
   "source": [
    "def compute_subgradient(y, tx, w):\n",
    "    \"\"\"Compute the subgradient.\"\"\"\n",
    "    # ***************************************************\n",
    "    # INSERT YOUR CODE HERE\n",
    "    N = len(y)\n",
    "    e = y - np.dot(tx,w)\n",
    "    subgradient = -1/N* np.dot(np.transpose(tx),np.sign(e)) \n",
    "    \n",
    "    return subgradient\n",
    "    # TODO: compute subgradient and error vector\n",
    "    # ***************************************************\n",
    "   "
   ]
  },
  {
   "cell_type": "code",
   "execution_count": 53,
   "metadata": {},
   "outputs": [
    {
     "data": {
      "text/plain": [
       "array([ 0.93069307, -0.00434568])"
      ]
     },
     "execution_count": 53,
     "metadata": {},
     "output_type": "execute_result"
    }
   ],
   "source": [
    "compute_subgradient(y,tx,[100,2])"
   ]
  },
  {
   "cell_type": "code",
   "execution_count": 54,
   "metadata": {},
   "outputs": [
    {
     "data": {
      "text/plain": [
       "array([-1.0000000e+00, -8.7278919e-16])"
      ]
     },
     "execution_count": 54,
     "metadata": {},
     "output_type": "execute_result"
    }
   ],
   "source": [
    "compute_subgradient(y,tx,[50,10])"
   ]
  },
  {
   "cell_type": "markdown",
   "metadata": {},
   "source": [
    "Please fill in the functions `gradient_descent` below:"
   ]
  },
  {
   "cell_type": "code",
   "execution_count": 55,
   "metadata": {},
   "outputs": [],
   "source": [
    "def gradient_descent(y, tx, initial_w, max_iters, gamma):\n",
    "    \"\"\"Gradient descent algorithm.\"\"\"\n",
    "    # Define parameters to store w and loss\n",
    "    ws = [initial_w]\n",
    "    losses = []\n",
    "    w = initial_w\n",
    "    for n_iter in range(max_iters):\n",
    "        # ***************************************************\n",
    "        # INSERT YOUR CODE HERE\n",
    "        loss = compute_loss(y,tx,w)\n",
    "        gradient = compute_subgradient(y,tx,w)\n",
    "        # TODO: compute gradient and loss\n",
    "        # ***************************************************\n",
    "\n",
    "        # ***************************************************\n",
    "        # INSERT YOUR CODE HERE\n",
    "        w = w - gamma*gradient\n",
    "        # TODO: update w by gradient\n",
    "        # ***************************************************\n",
    "\n",
    "        # store w and loss\n",
    "        ws.append(w)\n",
    "        losses.append(loss)\n",
    "        print(\"Gradient Descent({bi}/{ti}): loss={l}, w0={w0}, w1={w1}\".format(\n",
    "              bi=n_iter, ti=max_iters - 1, l=loss, w0=w[0], w1=w[1]))\n",
    "\n",
    "    return losses, ws"
   ]
  },
  {
   "cell_type": "markdown",
   "metadata": {},
   "source": [
    "Test your gradient descent function through gradient descent demo shown below:"
   ]
  },
  {
   "cell_type": "code",
   "execution_count": 56,
   "metadata": {},
   "outputs": [
    {
     "name": "stdout",
     "output_type": "stream",
     "text": [
      "Gradient Descent(0/49): loss=27.150073031481213, w0=95.0990099009901, w1=9.565527342681843\n",
      "Gradient Descent(1/49): loss=22.322649210775165, w0=90.24752475247524, w1=9.218700816974579\n",
      "Gradient Descent(2/49): loss=17.663160199876735, w0=85.49504950495049, w1=9.034953121594768\n",
      "Gradient Descent(3/49): loss=13.288349073071196, w0=81.13861386138613, w1=9.298631641404151\n",
      "Gradient Descent(4/49): loss=9.93600054580967, w0=78.11881188118811, w1=10.809477244912507\n",
      "Gradient Descent(5/49): loss=7.763435173006644, w0=75.79207920792078, w1=12.461664737160604\n",
      "Gradient Descent(6/49): loss=6.324501617206352, w0=74.2079207920792, w1=13.814239499016473\n",
      "Gradient Descent(7/49): loss=5.632840753502491, w0=73.2178217821782, w1=14.748364402031545\n",
      "Gradient Descent(8/49): loss=5.39516483967301, w0=73.01980198019801, w1=15.211629515952914\n",
      "Gradient Descent(9/49): loss=5.350470870497182, w0=72.87128712871286, w1=15.484878746360899\n",
      "Gradient Descent(10/49): loss=5.33112650989114, w0=72.72277227722772, w1=15.758127976768883\n",
      "Gradient Descent(11/49): loss=5.312278280267253, w0=72.62376237623762, w1=15.857914731812139\n",
      "Gradient Descent(12/49): loss=5.311481402993339, w0=72.72277227722772, w1=15.897634584287998\n",
      "Gradient Descent(13/49): loss=5.311317177643551, w0=72.62376237623762, w1=15.890239820392758\n",
      "Gradient Descent(14/49): loss=5.3112246134434, w0=72.72277227722772, w1=15.929959672868616\n",
      "Gradient Descent(15/49): loss=5.311368192631483, w0=72.67326732673267, w1=15.914773245827638\n",
      "Gradient Descent(16/49): loss=5.310868262164462, w0=72.67326732673267, w1=15.94300367970445\n",
      "Gradient Descent(17/49): loss=5.310917662978407, w0=72.62376237623762, w1=15.927817252663472\n",
      "Gradient Descent(18/49): loss=5.310926099430158, w0=72.72277227722772, w1=15.96753710513933\n",
      "Gradient Descent(19/49): loss=5.311482326018196, w0=72.67326732673267, w1=15.952350678098352\n",
      "Gradient Descent(20/49): loss=5.310946052480239, w0=72.62376237623762, w1=15.937164251057373\n",
      "Gradient Descent(21/49): loss=5.3108518471506985, w0=72.72277227722772, w1=15.976884103533232\n",
      "Gradient Descent(22/49): loss=5.311510715520028, w0=72.67326732673267, w1=15.961697676492253\n",
      "Gradient Descent(23/49): loss=5.310974441982071, w0=72.62376237623762, w1=15.946511249451275\n",
      "Gradient Descent(24/49): loss=5.310777594871238, w0=72.72277227722772, w1=15.986231101927133\n",
      "Gradient Descent(25/49): loss=5.31153910502186, w0=72.67326732673267, w1=15.971044674886155\n",
      "Gradient Descent(26/49): loss=5.311002831483902, w0=72.62376237623762, w1=15.955858247845176\n",
      "Gradient Descent(27/49): loss=5.310707115707606, w0=72.67326732673267, w1=15.98777753218378\n",
      "Gradient Descent(28/49): loss=5.31105365394721, w0=72.62376237623762, w1=15.9725911051428\n",
      "Gradient Descent(29/49): loss=5.310600295541631, w0=72.67326732673267, w1=16.004510389481403\n",
      "Gradient Descent(30/49): loss=5.311104476410518, w0=72.62376237623762, w1=15.989323962440425\n",
      "Gradient Descent(31/49): loss=5.310614335898914, w0=72.62376237623762, w1=15.977826385861235\n",
      "Gradient Descent(32/49): loss=5.310587897045475, w0=72.62376237623762, w1=15.966328809282045\n",
      "Gradient Descent(33/49): loss=5.310640273142069, w0=72.67326732673267, w1=15.998248093620647\n",
      "Gradient Descent(34/49): loss=5.311085456030678, w0=72.62376237623762, w1=15.983061666579669\n",
      "Gradient Descent(35/49): loss=5.310599935653669, w0=72.62376237623762, w1=15.971564090000479\n",
      "Gradient Descent(36/49): loss=5.3106068518593, w0=72.67326732673267, w1=16.003483374339083\n",
      "Gradient Descent(37/49): loss=5.3111013570724115, w0=72.62376237623762, w1=15.988296947298105\n",
      "Gradient Descent(38/49): loss=5.310611974261864, w0=72.62376237623762, w1=15.976799370718915\n",
      "Gradient Descent(39/49): loss=5.310585535408425, w0=72.62376237623762, w1=15.965301794139725\n",
      "Gradient Descent(40/49): loss=5.310646829459738, w0=72.67326732673267, w1=15.997221078478328\n",
      "Gradient Descent(41/49): loss=5.311082336692572, w0=72.62376237623762, w1=15.982034651437349\n",
      "Gradient Descent(42/49): loss=5.3105975740166205, w0=72.62376237623762, w1=15.970537074858159\n",
      "Gradient Descent(43/49): loss=5.3106134081769705, w0=72.67326732673267, w1=16.002456359196763\n",
      "Gradient Descent(44/49): loss=5.311098237734306, w0=72.62376237623762, w1=15.987269932155785\n",
      "Gradient Descent(45/49): loss=5.310609612624814, w0=72.62376237623762, w1=15.975772355576595\n",
      "Gradient Descent(46/49): loss=5.310583173771377, w0=72.62376237623762, w1=15.964274778997405\n",
      "Gradient Descent(47/49): loss=5.3106533857774085, w0=72.67326732673267, w1=15.996194063336008\n",
      "Gradient Descent(48/49): loss=5.311079217354467, w0=72.62376237623762, w1=15.981007636295029\n",
      "Gradient Descent(49/49): loss=5.310595212379571, w0=72.62376237623762, w1=15.969510059715839\n",
      "Gradient Descent: execution time=0.005 seconds\n"
     ]
    }
   ],
   "source": [
    "# from gradient_descent import *\n",
    "from plots import gradient_descent_visualization\n",
    "\n",
    "# Define the parameters of the algorithm.\n",
    "max_iters = 50\n",
    "gamma = 5.0\n",
    "\n",
    "# Initialization\n",
    "w_initial = np.array([100, 10])\n",
    "\n",
    "# Start gradient descent.\n",
    "start_time = datetime.datetime.now()\n",
    "gradient_losses, gradient_ws = gradient_descent(y, tx, w_initial, max_iters, gamma)\n",
    "end_time = datetime.datetime.now()\n",
    "\n",
    "# Print result\n",
    "exection_time = (end_time - start_time).total_seconds()\n",
    "print(\"Gradient Descent: execution time={t:.3f} seconds\".format(t=exection_time))"
   ]
  },
  {
   "cell_type": "code",
   "execution_count": 57,
   "metadata": {},
   "outputs": [
    {
     "data": {
      "application/vnd.jupyter.widget-view+json": {
       "model_id": "f318b45c0de74b8b9333730d4a02bef7",
       "version_major": 2,
       "version_minor": 0
      },
      "text/plain": [
       "interactive(children=(IntSlider(value=1, description='n_iter', max=51, min=1), Output()), _dom_classes=('widge…"
      ]
     },
     "metadata": {},
     "output_type": "display_data"
    },
    {
     "data": {
      "text/plain": [
       "<function __main__.plot_figure(n_iter)>"
      ]
     },
     "execution_count": 57,
     "metadata": {},
     "output_type": "execute_result"
    }
   ],
   "source": [
    "# Time Visualization\n",
    "from ipywidgets import IntSlider, interact\n",
    "\n",
    "def plot_figure(n_iter):\n",
    "    fig = gradient_descent_visualization(\n",
    "        gradient_losses, gradient_ws, grid_losses, grid_w0, grid_w1, mean_x, std_x, height, weight, n_iter)\n",
    "    fig.set_size_inches(10.0, 6.0)\n",
    "\n",
    "interact(plot_figure, n_iter=IntSlider(min=1, max=len(gradient_ws)))"
   ]
  },
  {
   "cell_type": "markdown",
   "metadata": {},
   "source": [
    "# 4 Stochastic gradient descent"
   ]
  },
  {
   "cell_type": "code",
   "execution_count": 64,
   "metadata": {},
   "outputs": [],
   "source": [
    "def compute_stoch_gradient(y, tx, w):\n",
    "    \"\"\"Compute a stochastic gradient from just few examples n and their corresponding y_n labels.\"\"\"\n",
    "    # ***************************************************\n",
    "    # INSERT YOUR CODE HERE\n",
    "    N = len(y)\n",
    "    e = y - np.dot(tx,w)\n",
    "    gradient = -1.0/N*np.dot(np.transpose(tx),np.sign(e)) \n",
    "    return gradient\n",
    "    # TODO: implement stochastic gradient computation.It's same as the gradient descent.\n",
    "    # ***************************************************\n",
    "\n",
    "\n",
    "\n",
    "def stochastic_gradient_descent(\n",
    "        y, tx, initial_w, batch_size, max_iters, gamma):\n",
    "    \"\"\"Stochastic gradient descent algorithm.\"\"\"\n",
    "    # ***************************************************\n",
    "    # INSERT YOUR CODE HERE\n",
    "    ws = [initial_w]\n",
    "    losses = []\n",
    "    w = initial_w\n",
    "    \n",
    "    for n_iter in range(max_iters):\n",
    "        for minibatch_y,minibatch_tx in batch_iter(y,tx,batch_size,num_batches =1 , shuffle = True):\n",
    "            loss = compute_loss(y,tx,w)\n",
    "            gradient = compute_stoch_gradient(minibatch_y,minibatch_tx,w)\n",
    "        \n",
    "            w = w - gamma*gradient\n",
    "            #store w and loss\n",
    "            ws.append(w)\n",
    "            losses.append(loss)\n",
    "            print(\"Gradient Descent({bi}/{ti}): loss={l}, w0={w0}, w1={w1}\".format(\n",
    "              bi=n_iter, ti=max_iters - 1, l=loss, w0=w[0], w1=w[1]))\n",
    "    # TODO: implement stochastic gradient descent.\n",
    "    # ***************************************************\n",
    "\n",
    "    return losses, ws"
   ]
  },
  {
   "cell_type": "code",
   "execution_count": 65,
   "metadata": {},
   "outputs": [
    {
     "name": "stdout",
     "output_type": "stream",
     "text": [
      "Gradient Descent(0/49): loss=74.06780585492638, w0=5.0, w1=0.3126682736629176\n",
      "Gradient Descent(1/49): loss=69.06780585492639, w0=10.0, w1=-0.5827187635948623\n",
      "Gradient Descent(2/49): loss=64.06780585492639, w0=15.0, w1=0.8970649958359902\n",
      "Gradient Descent(3/49): loss=59.067805854926384, w0=20.0, w1=1.3050630342829033\n",
      "Gradient Descent(4/49): loss=54.06780585492638, w0=25.0, w1=1.736451376191489\n",
      "Gradient Descent(5/49): loss=49.067805854926384, w0=30.0, w1=0.6440353172589657\n",
      "Gradient Descent(6/49): loss=44.06780585492638, w0=35.0, w1=-1.6128401705245599\n",
      "Gradient Descent(7/49): loss=39.06780585492638, w0=40.0, w1=-2.518754801220841\n",
      "Gradient Descent(8/49): loss=34.067805854926384, w0=45.0, w1=-4.277200974160741\n",
      "Gradient Descent(9/49): loss=29.29440653038493, w0=50.0, w1=-2.8073487413753773\n",
      "Gradient Descent(10/49): loss=24.625515826777313, w0=53.5, w1=-1.9145525851546141\n",
      "Gradient Descent(11/49): loss=21.539215242020653, w0=57.5, w1=0.11408747388958362\n",
      "Gradient Descent(12/49): loss=18.029563487259974, w0=59.5, w1=3.18106049250421\n",
      "Gradient Descent(13/49): loss=15.612124349242473, w0=63.5, w1=5.554458155824092\n",
      "Gradient Descent(14/49): loss=12.364638458695154, w0=66.0, w1=5.8386158363756255\n",
      "Gradient Descent(15/49): loss=11.132494039878507, w0=69.0, w1=8.841151109763649\n",
      "Gradient Descent(16/49): loss=8.57016329995771, w0=70.5, w1=10.164924331229052\n",
      "Gradient Descent(17/49): loss=7.511937421670252, w0=72.5, w1=12.429186009944512\n",
      "Gradient Descent(18/49): loss=6.06441381950804, w0=72.0, w1=13.499209155129439\n",
      "Gradient Descent(19/49): loss=5.7485796990707305, w0=74.5, w1=15.474894334258222\n",
      "Gradient Descent(20/49): loss=5.5274384015044165, w0=74.0, w1=16.990662894088878\n",
      "Gradient Descent(21/49): loss=5.527331040183929, w0=73.5, w1=17.548373083954797\n",
      "Gradient Descent(22/49): loss=5.549903002853125, w0=72.5, w1=17.21227341408375\n",
      "Gradient Descent(23/49): loss=5.422109326108666, w0=73.0, w1=15.994647096189695\n",
      "Gradient Descent(24/49): loss=5.31921975042709, w0=72.0, w1=15.356035509851305\n",
      "Gradient Descent(25/49): loss=5.375638682843585, w0=72.0, w1=16.15614586975116\n",
      "Gradient Descent(26/49): loss=5.3508847524808925, w0=73.0, w1=15.007657052157628\n",
      "Gradient Descent(27/49): loss=5.362991887992009, w0=73.0, w1=13.790148876612726\n",
      "Gradient Descent(28/49): loss=5.551326005815274, w0=74.5, w1=15.058354191784705\n",
      "Gradient Descent(29/49): loss=5.540916423248315, w0=73.5, w1=13.743434984104812\n",
      "Gradient Descent(30/49): loss=5.564788990889417, w0=74.0, w1=13.785096669678673\n",
      "Gradient Descent(31/49): loss=5.606348663683336, w0=72.5, w1=14.094170526927828\n",
      "Gradient Descent(32/49): loss=5.5200724227503555, w0=72.5, w1=14.273139036497238\n",
      "Gradient Descent(33/49): loss=5.483011322008892, w0=74.0, w1=16.07331044887441\n",
      "Gradient Descent(34/49): loss=5.440729753512287, w0=72.5, w1=13.784101108801412\n",
      "Gradient Descent(35/49): loss=5.596317665254571, w0=71.5, w1=16.62504366220825\n",
      "Gradient Descent(36/49): loss=5.4361014136885135, w0=71.5, w1=15.778216219181694\n",
      "Gradient Descent(37/49): loss=5.419097411882171, w0=73.0, w1=16.677568717582258\n",
      "Gradient Descent(38/49): loss=5.36141375670427, w0=73.0, w1=14.035916906519986\n",
      "Gradient Descent(39/49): loss=5.4973475628937445, w0=74.0, w1=15.933178409623968\n",
      "Gradient Descent(40/49): loss=5.431415905548486, w0=72.0, w1=14.81690692158708\n",
      "Gradient Descent(41/49): loss=5.442506136165851, w0=70.5, w1=15.131705676916905\n",
      "Gradient Descent(42/49): loss=5.734954202944677, w0=71.5, w1=13.952628825050173\n",
      "Gradient Descent(43/49): loss=5.716148846297478, w0=73.0, w1=14.18882983428709\n",
      "Gradient Descent(44/49): loss=5.468211609370572, w0=75.0, w1=17.787747659537036\n",
      "Gradient Descent(45/49): loss=5.924623458186779, w0=73.5, w1=18.237591303522926\n",
      "Gradient Descent(46/49): loss=5.695446609728686, w0=72.5, w1=18.544237574413984\n",
      "Gradient Descent(47/49): loss=5.732027186113186, w0=71.5, w1=17.259477713122447\n",
      "Gradient Descent(48/49): loss=5.504165007693671, w0=72.0, w1=15.205855696257279\n",
      "Gradient Descent(49/49): loss=5.388867289260377, w0=72.5, w1=16.34205720650394\n",
      "SGD: execution time=0.015 seconds\n"
     ]
    }
   ],
   "source": [
    "# from stochastic_gradient_descent import *\n",
    "\n",
    "# Define the parameters of the algorithm.\n",
    "max_iters = 50\n",
    "gamma = 5\n",
    "batch_size = 20\n",
    "\n",
    "# Initialization\n",
    "w_initial = np.array([0, 0])\n",
    "\n",
    "# Start SGD.\n",
    "start_time = datetime.datetime.now()\n",
    "sgd_losses, sgd_ws = stochastic_gradient_descent(\n",
    "    y, tx, w_initial, batch_size, max_iters, gamma)\n",
    "end_time = datetime.datetime.now()\n",
    "\n",
    "# Print result\n",
    "exection_time = (end_time - start_time).total_seconds()\n",
    "print(\"SGD: execution time={t:.3f} seconds\".format(t=exection_time))"
   ]
  },
  {
   "cell_type": "code",
   "execution_count": null,
   "metadata": {},
   "outputs": [],
   "source": []
  },
  {
   "cell_type": "code",
   "execution_count": 66,
   "metadata": {},
   "outputs": [
    {
     "data": {
      "application/vnd.jupyter.widget-view+json": {
       "model_id": "b2ef5aee0c84431b8d7bf7a9d0df3fc7",
       "version_major": 2,
       "version_minor": 0
      },
      "text/plain": [
       "interactive(children=(IntSlider(value=1, description='n_iter', max=51, min=1), Output()), _dom_classes=('widge…"
      ]
     },
     "metadata": {},
     "output_type": "display_data"
    },
    {
     "data": {
      "text/plain": [
       "<function __main__.plot_figure(n_iter)>"
      ]
     },
     "execution_count": 66,
     "metadata": {},
     "output_type": "execute_result"
    }
   ],
   "source": [
    "# Time Visualization\n",
    "from ipywidgets import IntSlider, interact\n",
    "def plot_figure(n_iter):\n",
    "    fig = gradient_descent_visualization(\n",
    "        sgd_losses, sgd_ws, grid_losses, grid_w0, grid_w1, mean_x, std_x, height, weight, n_iter)\n",
    "    fig.set_size_inches(10.0, 6.0)\n",
    "\n",
    "interact(plot_figure, n_iter=IntSlider(min=1, max=len(gradient_ws)))"
   ]
  },
  {
   "cell_type": "markdown",
   "metadata": {},
   "source": [
    "# 5 Effect of Outliers and MAE Cost Function, and Subgradient Descent"
   ]
  },
  {
   "cell_type": "markdown",
   "metadata": {},
   "source": [
    "### Exercise 5\n",
    "\n",
    "Load and plot data containing outliers"
   ]
  },
  {
   "cell_type": "code",
   "execution_count": null,
   "metadata": {
    "collapsed": true
   },
   "outputs": [],
   "source": []
  },
  {
   "cell_type": "markdown",
   "metadata": {},
   "source": [
    "### Exercise 6"
   ]
  },
  {
   "cell_type": "markdown",
   "metadata": {},
   "source": [
    "Modify the function `compute_loss(y, tx, w)` for the Mean Absolute Error cost function [here](#compute_loss)"
   ]
  }
 ],
 "metadata": {
  "anaconda-cloud": {},
  "kernelspec": {
   "display_name": "Python 3",
   "language": "python",
   "name": "python3"
  },
  "language_info": {
   "codemirror_mode": {
    "name": "ipython",
    "version": 3
   },
   "file_extension": ".py",
   "mimetype": "text/x-python",
   "name": "python",
   "nbconvert_exporter": "python",
   "pygments_lexer": "ipython3",
   "version": "3.7.3"
  }
 },
 "nbformat": 4,
 "nbformat_minor": 1
}
